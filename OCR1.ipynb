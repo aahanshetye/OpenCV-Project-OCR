{
  "cells": [
    {
      "cell_type": "markdown",
      "id": "introduction",
      "metadata": {
        "id": "introduction"
      },
      "source": [
        "# OCR Application using Python, OpenCV, and Tesseract in Google Colab\n",
        "\n",
        "This notebook allows you to upload **multiple images** and extract text from them using Optical Character Recognition (OCR). You can also specify the **language** of the text for more accurate OCR results.\n",
        "\n",
        "---\n",
        "\n",
        "## Table of Contents\n",
        "\n",
        "- [Install Required Libraries](#install-required-libraries)\n",
        "- [Import Necessary Libraries](#import-necessary-libraries)\n",
        "- [Select the Language for OCR](#select-the-language-for-ocr)\n",
        "- [Upload Multiple Images](#upload-multiple-images)\n",
        "- [Process Uploaded Images](#process-uploaded-images)\n",
        "- [Conclusion](#conclusion)\n",
        "\n",
        "---"
      ]
    },
    {
      "cell_type": "markdown",
      "id": "install-required-libraries",
      "metadata": {
        "id": "install-required-libraries"
      },
      "source": [
        "## Install Required Libraries\n",
        "\n",
        "First, we need to install the necessary libraries and dependencies. Google Colab already has some libraries installed, but we'll ensure everything we need is set up."
      ]
    },
    {
      "cell_type": "code",
      "execution_count": null,
      "id": "install-libraries-code",
      "metadata": {
        "id": "install-libraries-code"
      },
      "outputs": [],
      "source": [
        "# Install Tesseract OCR and language data\n",
        "!apt-get update\n",
        "!apt-get install -y tesseract-ocr\n",
        "!apt-get install -y libtesseract-dev\n",
        "\n",
        "# Install additional language packs (optional)\n",
        "# Uncomment and modify the following line to install language packs you need\n",
        "# !apt-get install -y tesseract-ocr-[lang_code]\n",
        "\n",
        "# Install Python libraries\n",
        "!pip install pytesseract\n",
        "!pip install opencv-python\n",
        "!pip install Pillow"
      ]
    },
    {
      "cell_type": "markdown",
      "source": [
        "**Explanation:**\n",
        "\n",
        "- **Tesseract OCR:** We install the Tesseract OCR engine and its development files.\n",
        "- **Language Packs:** You can install additional language packs as needed.\n",
        "- **Python Libraries:** We install `pytesseract`, `opencv-python`, and `Pillow` for OCR and image processing."
      ],
      "metadata": {
        "id": "Gc60IvQeDshZ"
      },
      "id": "Gc60IvQeDshZ"
    },
    {
      "cell_type": "markdown",
      "id": "import-libraries",
      "metadata": {
        "id": "import-libraries"
      },
      "source": [
        "## Import Necessary Libraries"
      ]
    },
    {
      "cell_type": "code",
      "execution_count": null,
      "id": "import-libraries-code",
      "metadata": {
        "id": "import-libraries-code"
      },
      "outputs": [],
      "source": [
        "import cv2\n",
        "import pytesseract\n",
        "from google.colab import files\n",
        "from IPython.display import display\n",
        "import numpy as np\n",
        "from PIL import Image\n",
        "import io"
      ]
    },
    {
      "cell_type": "markdown",
      "source": [
        "**Explanation:**\n",
        "\n",
        "- **cv2:** OpenCV library for image processing.\n",
        "- **pytesseract:** Python wrapper for Tesseract OCR.\n",
        "- **files:** For uploading files in Colab.\n",
        "- **display:** To display images and outputs.\n",
        "- **numpy:** For numerical operations on image data.\n",
        "- **PIL (Image, io):** For image handling."
      ],
      "metadata": {
        "id": "0WXchDgiDyly"
      },
      "id": "0WXchDgiDyly"
    },
    {
      "cell_type": "markdown",
      "id": "select-language",
      "metadata": {
        "id": "select-language"
      },
      "source": [
        "## Select the Language for OCR\n",
        "\n",
        "Since interactive widgets like `ipywidgets.Dropdown` are not fully supported in Colab, we'll prompt the user to input the language code."
      ]
    },
    {
      "cell_type": "code",
      "execution_count": null,
      "id": "select-language-code",
      "metadata": {
        "id": "select-language-code"
      },
      "outputs": [],
      "source": [
        "# List of common language codes\n",
        "common_languages = {\n",
        "    'English': 'eng',\n",
        "    'Spanish': 'spa',\n",
        "    'French': 'fra',\n",
        "    'German': 'deu',\n",
        "    'Italian': 'ita',\n",
        "    'Portuguese': 'por',\n",
        "    'Russian': 'rus',\n",
        "    'Chinese Simplified': 'chi_sim',\n",
        "    'Chinese Traditional': 'chi_tra',\n",
        "    'Japanese': 'jpn',\n",
        "    'Korean': 'kor',\n",
        "    'Hindi': 'hin',\n",
        "    'Arabic': 'ara',\n",
        "}\n",
        "\n",
        "# Display the language options\n",
        "print(\"Select the language for OCR from the list below:\")\n",
        "for lang in common_languages:\n",
        "    print(f\"- {lang} ({common_languages[lang]})\")\n",
        "\n",
        "# Prompt the user to input the language code\n",
        "lang_code = input(\"Enter the language code (e.g., 'eng' for English): \").strip()\n",
        "\n",
        "# Validate the input\n",
        "if not lang_code:\n",
        "    lang_code = 'eng'  # Default to English\n",
        "    print(\"No language code entered. Defaulting to English ('eng').\")\n",
        "else:\n",
        "    print(f\"Using language code: '{lang_code}'\")"
      ]
    },
    {
      "cell_type": "markdown",
      "source": [
        "**Explanation:**\n",
        "\n",
        "- We provide a list of common languages and their Tesseract language codes.\n",
        "- We prompt the user to input the desired language code.\n",
        "- If the user doesn't input a code, we default to English (`'eng'`).\n",
        "\n",
        "**Note:** Ensure that the language data for the chosen language is installed in Tesseract. If not, you can install it using `apt-get install tesseract-ocr-[lang_code]`."
      ],
      "metadata": {
        "id": "mTxptJHvD6BF"
      },
      "id": "mTxptJHvD6BF"
    },
    {
      "cell_type": "markdown",
      "id": "upload-images",
      "metadata": {
        "id": "upload-images"
      },
      "source": [
        "## Upload Multiple Images"
      ]
    },
    {
      "cell_type": "code",
      "execution_count": null,
      "id": "upload-images-code",
      "metadata": {
        "id": "upload-images-code"
      },
      "outputs": [],
      "source": [
        "# Prompt the user to upload multiple image files\n",
        "print(\"Please upload the images for OCR.\")\n",
        "uploaded = files.upload()\n",
        "\n",
        "# Check if any files were uploaded\n",
        "if not uploaded:\n",
        "    print(\"No files uploaded. Please upload at least one image.\")\n",
        "else:\n",
        "    print(f\"{len(uploaded)} file(s) uploaded successfully.\")"
      ]
    },
    {
      "cell_type": "markdown",
      "source": [
        "**Explanation:**\n",
        "\n",
        "- We use `files.upload()` to prompt the user to upload one or more image files.\n",
        "- The uploaded files are stored in the `uploaded` dictionary.\n",
        "- We check if any files were uploaded and provide feedback."
      ],
      "metadata": {
        "id": "Y0YTZNJvEBOV"
      },
      "id": "Y0YTZNJvEBOV"
    },
    {
      "cell_type": "markdown",
      "id": "process-images",
      "metadata": {
        "id": "process-images"
      },
      "source": [
        "## Process Uploaded Images"
      ]
    },
    {
      "cell_type": "code",
      "execution_count": null,
      "id": "process-images-code",
      "metadata": {
        "id": "process-images-code"
      },
      "outputs": [],
      "source": [
        "# Iterate over the uploaded files and process each image\n",
        "for filename, content in uploaded.items():\n",
        "    print(f\"\\nProcessing '{filename}'...\")\n",
        "    try:\n",
        "        # Open the image\n",
        "        image = Image.open(io.BytesIO(content)).convert('RGB')\n",
        "        img = np.array(image)\n",
        "\n",
        "        # Display the original image\n",
        "        print(\"**Original Image:**\")\n",
        "        display(image)\n",
        "\n",
        "        # Preprocess the image\n",
        "        gray = cv2.cvtColor(img, cv2.COLOR_RGB2GRAY)\n",
        "        _, thresh = cv2.threshold(\n",
        "            gray, 0, 255, cv2.THRESH_BINARY + cv2.THRESH_OTSU\n",
        "        )\n",
        "        denoised = cv2.medianBlur(thresh, 3)\n",
        "\n",
        "        # Perform OCR\n",
        "        custom_config = r'--oem 3 --psm 6'\n",
        "        text = pytesseract.image_to_string(\n",
        "            denoised, lang=lang_code, config=custom_config\n",
        "        )\n",
        "\n",
        "        # Print the extracted text\n",
        "        print(\"**Extracted Text:**\")\n",
        "        print(text)\n",
        "    except Exception as e:\n",
        "        print(f\"An error occurred while processing '{filename}': {e}\")"
      ]
    },
    {
      "cell_type": "markdown",
      "source": [
        "**Explanation:**\n",
        "\n",
        "- **Image Loading:** We open each uploaded image and convert it to an RGB format.\n",
        "- **Display Original Image:** We display the original image for reference.\n",
        "- **Preprocessing:**\n",
        "  - **Grayscale Conversion:** Simplifies the image data.\n",
        "  - **Thresholding:** Binarizes the image to separate text from the background.\n",
        "  - **Noise Removal:** Uses median blur to reduce noise.\n",
        "- **OCR Processing:**\n",
        "  - We use `pytesseract.image_to_string()` with the specified language code.\n",
        "  - Custom configurations are passed to optimize the OCR engine.\n",
        "- **Error Handling:** We catch exceptions to prevent the entire script from stopping if one image fails."
      ],
      "metadata": {
        "id": "2lkfNGtxEPx4"
      },
      "id": "2lkfNGtxEPx4"
    },
    {
      "cell_type": "markdown",
      "id": "conclusion",
      "metadata": {
        "id": "conclusion"
      },
      "source": [
        "## Conclusion\n",
        "\n",
        "We've successfully set up an OCR application in Google Colab that:\n",
        "\n",
        "- Allows us to **upload multiple images**.\n",
        "- Lets us **specify the language** for OCR.\n",
        "- **Processes each image** to extract and display the text.\n",
        "\n",
        "We can also modify the preprocessing steps or OCR configurations to improve accuracy for your specific use case.\n",
        "\n",
        "---"
      ]
    },
    {
      "cell_type": "markdown",
      "id": "additional-notes",
      "metadata": {
        "id": "additional-notes"
      },
      "source": [
        "## Additional Notes\n",
        "\n",
        "- **Installing Language Data:**\n",
        "  - Ensure that the Tesseract OCR engine has the language data files installed for the languages you want to use.\n",
        "  - To install additional languages, run:\n",
        "    ```python\n",
        "    # Replace '[lang_code]' with the actual language code\n",
        "    !apt-get install -y tesseract-ocr-[lang_code]\n",
        "    ```\n",
        "    For example, to install Spanish:\n",
        "    ```python\n",
        "    !apt-get install -y tesseract-ocr-spa\n",
        "    ```\n",
        "- **Improving OCR Accuracy:**\n",
        "  - Experiment with different preprocessing techniques like adaptive thresholding, dilation, erosion, etc.\n",
        "  - Adjust the OCR configurations (`--oem`, `--psm`) as needed.\n",
        "- **Processing Non-Image Files:**\n",
        "  - Ensure that the uploaded files are images. The script may fail if non-image files are uploaded."
      ]
    },
    {
      "cell_type": "markdown",
      "id": "full-code",
      "metadata": {
        "id": "full-code"
      },
      "source": [
        "# Full Code in One Cell (for Easy Execution)\n",
        "\n",
        "Below is the complete code for the OCR application. You can run this cell directly after opening your Google Colab notebook.\n"
      ]
    },
    {
      "cell_type": "code",
      "source": [
        "# Install Required Libraries and Dependencies\n",
        "!apt-get update\n",
        "!apt-get install -y tesseract-ocr\n",
        "!apt-get install -y libtesseract-dev\n",
        "\n",
        "# Install additional language packs if needed\n",
        "# For example, to install Spanish, uncomment the following line:\n",
        "# !apt-get install -y tesseract-ocr-spa\n",
        "\n",
        "# Install Python libraries\n",
        "!pip install pytesseract\n",
        "!pip install opencv-python\n",
        "!pip install Pillow\n",
        "\n",
        "# Import Necessary Libraries\n",
        "import cv2\n",
        "import pytesseract\n",
        "from google.colab import files\n",
        "from IPython.display import display\n",
        "import numpy as np\n",
        "from PIL import Image\n",
        "import io\n",
        "\n",
        "# Select the Language for OCR\n",
        "common_languages = {\n",
        "    'English': 'eng',\n",
        "    'Spanish': 'spa',\n",
        "    'French': 'fra',\n",
        "    'German': 'deu',\n",
        "    'Italian': 'ita',\n",
        "    'Portuguese': 'por',\n",
        "    'Russian': 'rus',\n",
        "    'Chinese Simplified': 'chi_sim',\n",
        "    'Chinese Traditional': 'chi_tra',\n",
        "    'Japanese': 'jpn',\n",
        "    'Korean': 'kor',\n",
        "    'Hindi': 'hin',\n",
        "    'Arabic': 'ara',\n",
        "}\n",
        "\n",
        "print(\"Select the language for OCR from the list below:\")\n",
        "for lang in common_languages:\n",
        "    print(f\"- {lang} ({common_languages[lang]})\")\n",
        "\n",
        "lang_code = input(\"Enter the language code (e.g., 'eng' for English): \").strip()\n",
        "\n",
        "if not lang_code:\n",
        "    lang_code = 'eng'\n",
        "    print(\"No language code entered. Defaulting to English ('eng').\")\n",
        "else:\n",
        "    print(f\"Using language code: '{lang_code}'\")\n",
        "\n",
        "# Upload Multiple Images\n",
        "print(\"Please upload the images for OCR.\")\n",
        "uploaded = files.upload()\n",
        "\n",
        "if not uploaded:\n",
        "    print(\"No files uploaded. Please upload at least one image.\")\n",
        "else:\n",
        "    print(f\"{len(uploaded)} file(s) uploaded successfully.\")\n",
        "\n",
        "# Process Uploaded Images\n",
        "for filename, content in uploaded.items():\n",
        "    print(f\"\\nProcessing '{filename}'...\")\n",
        "    try:\n",
        "        # Open the image\n",
        "        image = Image.open(io.BytesIO(content)).convert('RGB')\n",
        "        img = np.array(image)\n",
        "\n",
        "        # Display the original image\n",
        "        print(\"**Original Image:**\")\n",
        "        display(image)\n",
        "\n",
        "        # Preprocess the image\n",
        "        gray = cv2.cvtColor(img, cv2.COLOR_RGB2GRAY)\n",
        "        _, thresh = cv2.threshold(\n",
        "            gray, 0, 255, cv2.THRESH_BINARY + cv2.THRESH_OTSU\n",
        "        )\n",
        "        denoised = cv2.medianBlur(thresh, 3)\n",
        "\n",
        "        # Perform OCR\n",
        "        custom_config = r'--oem 3 --psm 6'\n",
        "        text = pytesseract.image_to_string(\n",
        "            denoised, lang=lang_code, config=custom_config\n",
        "        )\n",
        "\n",
        "        # Print the extracted text\n",
        "        print(\"**Extracted Text:**\")\n",
        "        print(text)\n",
        "    except Exception as e:\n",
        "        print(f\"An error occurred while processing '{filename}': {e}\")\n"
      ],
      "metadata": {
        "id": "dRpkzvFoEzV0"
      },
      "id": "dRpkzvFoEzV0",
      "execution_count": null,
      "outputs": []
    },
    {
      "cell_type": "markdown",
      "id": "instructions",
      "metadata": {
        "id": "instructions"
      },
      "source": [
        "# Instructions For Execution\n",
        "\n",
        "1. **Open a New Colab Notebook:**\n",
        "\n",
        "   - Go to [Google Colab](https://colab.research.google.com/) and create a new notebook.\n",
        "\n",
        "2. **Copy and Paste the Code:**\n",
        "\n",
        "   - Copy the entire code block above into a cell in your Colab notebook.\n",
        "\n",
        "3. **Run the Cell:**\n",
        "\n",
        "   - Click the \"Run\" button or press `Shift + Enter` to execute the cell.\n",
        "   - The notebook will install the required packages and prompt you to select the language and upload images.\n",
        "\n",
        "4. **Select Language:**\n",
        "\n",
        "   - When prompted, enter the language code corresponding to the language in your images.\n",
        "   - If you don't enter a code, it defaults to English (`'eng'`).\n",
        "\n",
        "5. **Upload Images:**\n",
        "\n",
        "   - A file dialog will appear. Select one or more image files containing text.\n",
        "\n",
        "6. **View Results:**\n",
        "\n",
        "   - The notebook will process each image, display it, and print out the extracted text.\n",
        "\n",
        "---"
      ]
    },
    {
      "cell_type": "markdown",
      "id": "optional-enhancements",
      "metadata": {
        "id": "optional-enhancements"
      },
      "source": [
        "# Optional Enhancements\n",
        "\n",
        "## Display Preprocessed Images\n",
        "\n",
        "To see how the image looks after preprocessing, you can display the processed image. Uncomment the following lines in the code:\n",
        "\n",
        "```python\n",
        "# processed_image = Image.fromarray(denoised)\n",
        "# print(\"**Processed Image:**\")\n",
        "# display(processed_image)\n",
        "```\n",
        "\n",
        "## Install Additional Language Packs\n",
        "\n",
        "If the language you need is not installed by default, install it using:\n",
        "\n",
        "```python\n",
        "# Replace '[lang_code]' with the actual language code\n",
        "!apt-get install -y tesseract-ocr-[lang_code]\n",
        "```\n",
        "\n",
        "For example, to install Polish:\n",
        "\n",
        "```python\n",
        "!apt-get install -y tesseract-ocr-pol\n",
        "```\n",
        "\n",
        "## Adjust OCR Configurations\n",
        "\n",
        "You can experiment with different OCR configurations to improve accuracy:\n",
        "\n",
        "```python\n",
        "custom_config = r'--oem 3 --psm 6'\n",
        "```\n",
        "\n",
        "- **`--oem` (OCR Engine Mode):**\n",
        "  - `0`: Original Tesseract only.\n",
        "  - `1`: Neural nets LSTM engine only.\n",
        "  - `2`: Tesseract with LSTM.\n",
        "  - `3`: Default, based on what is available.\n",
        "\n",
        "- **`--psm` (Page Segmentation Mode):**\n",
        "  - `3`: Fully automatic page segmentation.\n",
        "  - `6`: Assume a single uniform block of text.\n",
        "  - `11`: Sparse text.\n",
        "\n",
        "---"
      ]
    },
    {
      "cell_type": "markdown",
      "id": "troubleshooting",
      "metadata": {
        "id": "troubleshooting"
      },
      "source": [
        "# Troubleshooting\n",
        "\n",
        "- **No Text Extracted:**\n",
        "  - Ensure the image quality is good (not blurry or low-resolution).\n",
        "  - Check that the correct language code is used and the language pack is installed.\n",
        "\n",
        "- **Errors During OCR:**\n",
        "  - Verify that Tesseract is correctly installed and accessible.\n",
        "  - Confirm that the language code is valid and supported.\n",
        "\n",
        "- **Non-Image Files:**\n",
        "  - Make sure only image files are uploaded. The script may fail with non-image files.\n",
        "\n",
        "---"
      ]
    },
    {
      "cell_type": "markdown",
      "id": "conclusion-final",
      "metadata": {
        "id": "conclusion-final"
      },
      "source": [
        "# Conclusion\n",
        "\n",
        "You've now adapted the OCR application to work in Google Colab, allowing for multiple image uploads and language selection. This setup is convenient for collaborative work and doesn't require any local installations beyond what is handled in the notebook.\n",
        "\n",
        "Feel free to experiment with different preprocessing techniques and OCR configurations to optimize performance for your specific needs.\n",
        "\n",
        "**Happy Coding!**\n",
        "\n",
        "---"
      ]
    },
    {
      "cell_type": "markdown",
      "id": "references",
      "metadata": {
        "id": "references"
      },
      "source": [
        "# References\n",
        "\n",
        "- **Tesseract OCR Documentation:** [GitHub Repository](https://github.com/tesseract-ocr/tesseract)\n",
        "- **pytesseract Documentation:** [GitHub Repository](https://github.com/madmaze/pytesseract)\n",
        "- **OpenCV Documentation:** [Official Site](https://opencv.org/)\n",
        "\n"
      ]
    }
  ],
  "metadata": {
    "kernelspec": {
      "display_name": "Python 3",
      "language": "python",
      "name": "python3"
    },
    "language_info": {
      "codemirror_mode": {
        "name": "ipython",
        "version": 3
      },
      "file_extension": ".py",
      "mimetype": "text/x-python",
      "name": "python",
      "nbconvert_exporter": "python",
      "pygments_lexer": "ipython3",
      "version": "3.8.5"
    },
    "colab": {
      "provenance": []
    }
  },
  "nbformat": 4,
  "nbformat_minor": 5
}